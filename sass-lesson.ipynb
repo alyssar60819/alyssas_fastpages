{
 "cells": [
  {
   "attachments": {},
   "cell_type": "markdown",
   "metadata": {},
   "source": [
    "# SASS"
   ]
  },
  {
   "attachments": {},
   "cell_type": "markdown",
   "metadata": {},
   "source": [
    "# Why SASS?\n",
    "\n",
    "SASS is an improvement on CSS in that there are methods of abstraction. It is a __stylesheet__ language that is __compiled__ into CSS, which means that __SASS will translate the SASS code you wrote in CSS__, which is what your web browser can read.\n",
    "\n",
    "# SASS vs SCSS\n",
    "As you learn about Sass, you might notice something called Scss. They are basically the same thing except that Scss uses curly braces and semicolons to distinguish between lines. Sass uses indentation and newlines instead.\n",
    "\n",
    "We will be teaching the Scss syntax because it is more commonly used."
   ]
  },
  {
   "attachments": {},
   "cell_type": "markdown",
   "metadata": {},
   "source": [
    "# Getting started\n",
    "\n",
    "A easy way to write SASS and have it preprocessed into CSS is by using a Jekyll powered website, such as GitHub pages or Fastpages.\n",
    "\n",
    "The first step is to clone a GitHub pages repo, such as this [one](https://github.com/lwu1822/sassy_squad).\n",
    "\n",
    "Within the repository, head over to `assets/css/`, and open `style.scss`.\n",
    "\n",
    "This is where you can create your SASS code.\n",
    "\n",
    "To see your CSS-translated SASS code, head over to `_site/assets/css/style.css`\n",
    "\n",
    "Note: You will need to run bundle exec jekyll serve before the _site directory appears.\n",
    "\n",
    "The first few hundred lines are used to style Github's theme. Make sure to scroll to the very bottom to see the SASS code that you wrote, which is in the form of CSS."
   ]
  },
  {
   "attachments": {},
   "cell_type": "markdown",
   "metadata": {},
   "source": [
    "# Nesting\n",
    "SASS provides a feature called nesting that allows you to write styling code in a way that looks like an HTML hierarchy. "
   ]
  },
  {
   "attachments": {},
   "cell_type": "markdown",
   "metadata": {},
   "source": [
    "# Mini-hack\n",
    "\n",
    "Write out the SASS equivalent for the following CSS code:\n",
    "\n",
    "```\n",
    ".a .b {\n",
    "    color: green;\n",
    "}\n",
    "\n",
    ".a .c {\n",
    "    color: blue;\n",
    "}\n",
    "```\n",
    "#### SASS Code:\n",
    "\n",
    "```\n",
    ".a {\n",
    "    .b {\n",
    "        color: green;\n",
    "    }\n",
    "\n",
    "    .c {\n",
    "        color: blue;\n",
    "    }\n",
    "}\n",
    "```"
   ]
  },
  {
   "attachments": {},
   "cell_type": "markdown",
   "metadata": {},
   "source": [
    "# Extend/Inheritance\n",
    "\n",
    "##### What are some similarities that the buttons share? What are the differences? \n",
    "The buttons have the same width and height, font color, and spacing between each button. They have a different background color.\n",
    "\n",
    "If you want to reuse a portion of your CSS code in multiple selectors, you can use the extend function in SASS to inherit the code."
   ]
  },
  {
   "attachments": {},
   "cell_type": "markdown",
   "metadata": {},
   "source": [
    "# Mixin\n",
    "\n",
    "The mixin function in SASS also allows you to create a code template that can be reused and also takes in parameters so you can create dynamic styling. "
   ]
  },
  {
   "attachments": {},
   "cell_type": "markdown",
   "metadata": {},
   "source": [
    "# Mini-hack\n",
    "\n",
    "Write out a mixin in SASS that takes in a color and a font size as the parameter. Within the mixin, set the background color and font color to the color parameter, and set the font size to the font size parameter. Then create a selector that calls the mixin, and pass in a color and font size of your choice as the arguments."
   ]
  },
  {
   "attachments": {},
   "cell_type": "markdown",
   "metadata": {},
   "source": [
    "#### SASS Code:\n",
    "\n",
    "```\n",
    "@mixin buttonLayout($bgColor, $fontSize) {\n",
    "\tbackground: $bgColor;\n",
    "    textSize: $fontSize\n",
    "}\n",
    "\n",
    "```\n"
   ]
  },
  {
   "attachments": {},
   "cell_type": "markdown",
   "metadata": {},
   "source": [
    "# Function\n",
    "\n",
    "Functions are called by specifying the function name with parenthesis. Inside the parenthesis, you can specify arguments."
   ]
  },
  {
   "attachments": {},
   "cell_type": "markdown",
   "metadata": {},
   "source": [
    "# Import\n",
    "\n",
    "In order to make SASS code look more organized, you can split your code into multiple files and import them into one file. For example, to put the styling for function.html in another SASS file, first create a directory called _sass"
   ]
  },
  {
   "attachments": {},
   "cell_type": "markdown",
   "metadata": {},
   "source": [
    "# SASS Hacks\n",
    "\n",
    "1. Take notes and complete the mini-hacks. (0.9) ✓\n",
    "\n",
    "2. Complete the [quiz questions](https://lwu1822.github.io/sassy_squad/quizQuestions) and provide your answers in this notebook. (0.9) ✓\n",
    "\n",
    "3. Use SASS to create something that uses either extend or mixin. (0.9) ✓\n",
    "\n",
    "4. Extra credit: Research other SASS features and blog about what you learned or add to your SASS project with any extra features not covered in this lesson. More points will be given if both are done. ✓"
   ]
  },
  {
   "attachments": {},
   "cell_type": "markdown",
   "metadata": {},
   "source": [
    "### Quiz Questions\n",
    "\n",
    "__What is SASS?__\n",
    "- A type of operating system used by many devices \n",
    "- __A scripting language that has many styling operations__\n",
    "- The name of a commonly used computer networking system \n",
    "- A debugging system with many features\n",
    "\n",
    "__What is the difference between SASS and SCSS?__\n",
    "- __They are very similar in their function, but their syntax is slightly different__\n",
    "- They are the exact same, but SASS is more commonly used\n",
    "- SASS was developed by a larger company \n",
    "\n",
    "__What is an example of an advantage of using SASS over just CSS?__\n",
    "- __SASS has more functions than CSS__\n",
    "- SASS is not as expensive to use than CSS \n",
    "- CSS takes up more bytes \n",
    "- CSS is not as commonly used, so it’s hard to find solutions to problems that arise while coding in it. \n",
    "\n",
    "__What does SASS stand for?__\n",
    "- __Systematically Arranged Sample Sheets__\n",
    "- Syntactically Awesome Style Sheets\n",
    "\n",
    "__Which of the following is NOT an example of an available SASS directive?__\n",
    "- warn \n",
    "- debug \n",
    "- import \n",
    "- __compute__\n",
    "\n",
    "__The __ directive is used to share rules and relationships between selectors.__\n",
    "- each \n",
    "- __extend__ \n",
    "- mixin \n",
    "- error \n",
    "\n",
    "__What is “@_” called?__\n",
    "- Enhancement \n",
    "- __Directive__\n",
    "- Label \n",
    "- Token "
   ]
  },
  {
   "attachments": {},
   "cell_type": "markdown",
   "metadata": {},
   "source": [
    "### Extend/ Mixin Hack\n",
    "\n",
    "\n",
    "```\n",
    "@mixin responsive-font-size($base-size) {\n",
    "  font-size: $base-size;\n",
    "  \n",
    "  @media (min-width: 768px) {\n",
    "    font-size: calc(#{$base-size} * 1.2);\n",
    "  }\n",
    "  \n",
    "  @media (min-width: 1024px) {\n",
    "    font-size: calc(#{$base-size} * 1.4);\n",
    "  }\n",
    "}\n",
    "\n",
    ".heading {\n",
    "  @include responsive-font-size(24px);\n",
    "}\n",
    "\n",
    ".subheading {\n",
    "  @include responsive-font-size(18px);\n",
    "}\n",
    "\n",
    "\n",
    "```\n",
    "\n",
    "In this SASS code, a mixin called responsive-font-size that takes a single argument $base-size, which is the base font size for the element. The mixin then applies the base font size, and then overrides it with larger font sizes for different screen sizes using media queries."
   ]
  },
  {
   "attachments": {},
   "cell_type": "markdown",
   "metadata": {},
   "source": [
    "### Extra Credit Notes and Hacks"
   ]
  },
  {
   "attachments": {},
   "cell_type": "markdown",
   "metadata": {},
   "source": [
    "__Variables__\n",
    "\n",
    "One of the most powerful features of SASS is the ability to define variables, which can be used to store values that are reused throughout your code. This can be useful for things like colors, font sizes, and spacing values. Here's an example:\n",
    "\n",
    "```\n",
    "$primary-color: #007bff;\n",
    "$font-size-base: 16px;\n",
    "$spacing: 8px;\n",
    "```\n",
    "Once you've defined a variable, you can use it anywhere in your code by referencing its name, like this:\n",
    "\n",
    "```\n",
    "button {\n",
    "  background-color: $primary-color;\n",
    "  font-size: $font-size-base;\n",
    "  padding: $spacing;\n",
    "}\n",
    "```\n",
    "\n",
    "__Partials__\n",
    "\n",
    "SASS also allows you to split your code into separate files called partials, which can then be imported into a main file. This can be useful for breaking your code up into smaller, more manageable pieces. Here's an example:\n",
    "\n",
    "```\n",
    "// _variables.scss\n",
    "$primary-color: #007bff;\n",
    "$font-size-base: 16px;\n",
    "$spacing: 8px;\n",
    "\n",
    "// _buttons.scss\n",
    "@import \"variables\";\n",
    "\n",
    "button {\n",
    "  background-color: $primary-color;\n",
    "  font-size: $font-size-base;\n",
    "  padding: $spacing;\n",
    "}\n",
    "\n",
    "// main.scss\n",
    "@import \"variables\";\n",
    "@import \"buttons\";\n",
    "\n",
    "```\n",
    "\n",
    "__Functions__\n",
    "\n",
    "Finally, SASS allows you to define your own functions, which can be used to perform calculations or transformations on values. Here's an example:\n",
    "\n",
    "```\n",
    "@function em($px-size) {\n",
    "  @return #{$px-size / $font-size-base}em;\n",
    "}\n",
    "\n",
    "h1 {\n",
    "  font-size: em(32px);\n",
    "}\n",
    "```\n",
    "\n",
    "Overall, SASS is a powerful tool for improving your CSS code by adding features like variables, nesting, partials, and functions. By using these features, you can write more maintainable and readable code, and make your CSS development process more efficient.\n",
    "\n",
    "\n"
   ]
  }
 ],
 "metadata": {
  "language_info": {
   "name": "python"
  },
  "orig_nbformat": 4
 },
 "nbformat": 4,
 "nbformat_minor": 2
}
