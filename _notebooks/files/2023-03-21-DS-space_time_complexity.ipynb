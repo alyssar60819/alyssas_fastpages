{
 "cells": [
  {
   "attachments": {},
   "cell_type": "markdown",
   "metadata": {},
   "source": [
    "#  Data Structures- Space and Time Complexity\n",
    "> Observing the time complexity of different algorithms\n",
    "- toc: true\n",
    "- image: /images/python.png\n",
    "- categories: []\n",
    "- type: pbl\n",
    "- week: 27"
   ]
  },
  {
   "attachments": {},
   "cell_type": "markdown",
   "metadata": {},
   "source": [
    "# Space and Time Complexity\n",
    "> Space complexity refers to the amount of memory used by an algorithm to complete its execution, as a function of the size of the input. The space complexity of an algorithm can be affected by various factors such as the size of the input data, the data structures used in the algorithm, the number and size of temporary variables, and the recursion depth. Time complexity refers to the amount of time required by an algorithm to run as the input size grows. It is usually measured in terms of the \"Big O\" notation, which describes the upper bound of an algorithm's time complexity."
   ]
  },
  {
   "attachments": {},
   "cell_type": "markdown",
   "metadata": {},
   "source": [
    "## Big O Notation\n",
    "- Constant O(1)\n",
    "- Linear O(n)\n",
    "- Quadratic O(n^2) \n",
    "- Logarithmic O(logn)\n",
    "- Exponential (O(2^n))"
   ]
  },
  {
   "cell_type": "code",
   "execution_count": 1,
   "metadata": {},
   "outputs": [],
   "source": [
    "#create a list called numbers with 1,000 numbers in it\n",
    "numbers = list(range(1000))\n"
   ]
  },
  {
   "attachments": {},
   "cell_type": "markdown",
   "metadata": {},
   "source": [
    "# Constant O(1)"
   ]
  },
  {
   "attachments": {},
   "cell_type": "markdown",
   "metadata": {},
   "source": [
    "### Time\n",
    "> An example of a constant time algorithm is accessing a specific element in an array. It does not matter how large the array is, accessing an element in the array takes the same amount of time. Therefore, the time complexity of this operation is constant, denoted by O(1)."
   ]
  },
  {
   "cell_type": "code",
   "execution_count": null,
   "metadata": {},
   "outputs": [],
   "source": [
    "#prints the number at index 263\n",
    "print(numbers[263])"
   ]
  },
  {
   "attachments": {},
   "cell_type": "markdown",
   "metadata": {},
   "source": [
    "### Space\n",
    "> This function takes two integer inputs and returns their sum. The function does not create any additional data structures or variables that are dependent on the input size, so its space complexity is constant, or O(1). Regardless of how large the input integers are, the function will always require the same amount of memory to execute."
   ]
  },
  {
   "cell_type": "code",
   "execution_count": null,
   "metadata": {},
   "outputs": [],
   "source": [
    "#function that takes the sum of two integers\n",
    "def sum(a, b): \n",
    "  return a + b;"
   ]
  },
  {
   "attachments": {},
   "cell_type": "markdown",
   "metadata": {},
   "source": [
    "# Linear O(n)"
   ]
  },
  {
   "attachments": {},
   "cell_type": "markdown",
   "metadata": {},
   "source": [
    "### Time\n",
    "> An example of a linear time algorithm is traversing a list or an array. When the size of the list or array increases, the time taken to traverse it also increases linearly with the size. Hence, the time complexity of this operation is O(n), where n is the size of the list or array being traversed."
   ]
  },
  {
   "cell_type": "code",
   "execution_count": null,
   "metadata": {},
   "outputs": [],
   "source": [
    "#Iterates through the list \n",
    "for i in numbers:\n",
    "    print(i)"
   ]
  },
  {
   "attachments": {},
   "cell_type": "markdown",
   "metadata": {},
   "source": [
    "### Space\n",
    "> This function takes a list of elements arr as input and returns a new list with the elements in reverse order. The function creates a new list reversed_arr of the same size as arr to store the reversed elements. The size of reversed_arr depends on the size of the input arr, so the space complexity of this function is O(n). As the input size increases, the amount of memory required to execute the function also increases linearly."
   ]
  },
  {
   "cell_type": "code",
   "execution_count": null,
   "metadata": {},
   "outputs": [],
   "source": [
    "def reverse_list(arr):\n",
    "    n = len(arr) \n",
    "    reversed_arr = [None] * n #create a list of None based on the length or arr\n",
    "    for i in range(n):\n",
    "        reversed_arr[n-i-1] = arr[i] #stores the value at the index of arr to the value at the index of reversed_arr starting at the beginning for arr and end for reversed_arr \n",
    "    return reversed_arr"
   ]
  },
  {
   "attachments": {},
   "cell_type": "markdown",
   "metadata": {},
   "source": [
    "# Quadratic O(n^2)"
   ]
  },
  {
   "attachments": {},
   "cell_type": "markdown",
   "metadata": {},
   "source": [
    "### Time\n",
    "> An example of a quadratic time algorithm is nested loops. When there are two nested loops that both iterate over the same collection, the time taken to complete the algorithm grows quadratically with the size of the collection. Hence, the time complexity of this operation is O(n^2), where n is the size of the collection being iterated over."
   ]
  },
  {
   "cell_type": "code",
   "execution_count": null,
   "metadata": {},
   "outputs": [],
   "source": [
    "#Iterates through the list twice creating a nested loop\n",
    "for i in numbers:\n",
    "    for j in numbers:\n",
    "        print(i,j)"
   ]
  },
  {
   "attachments": {},
   "cell_type": "markdown",
   "metadata": {},
   "source": [
    "### Space\n",
    "> This function takes two matrices matrix1 and matrix2 as input and returns their product as a new matrix. The function creates a new matrix result with dimensions m by n to store the product of the input matrices. The size of result depends on the size of the input matrices, so the space complexity of this function is O(n^2). As the size of the input matrices increases, the amount of memory required to execute the function also increases quadratically."
   ]
  },
  {
   "attachments": {},
   "cell_type": "markdown",
   "metadata": {},
   "source": [
    "![Example of Matrix Multiplication](images/multiply_matrices.png)\n",
    "\n",
    "- Main take away is that a new matrix is created."
   ]
  },
  {
   "cell_type": "code",
   "execution_count": null,
   "metadata": {},
   "outputs": [],
   "source": [
    "def multiply_matrices(matrix1, matrix2):\n",
    "    m = len(matrix1) \n",
    "    n = len(matrix2[0])\n",
    "    result = [[0] * n] * m #this creates the new matrix based on the size of matrix 1 and 2\n",
    "    for i in range(m):\n",
    "        for j in range(n):\n",
    "            for k in range(len(matrix2)):\n",
    "                result[i][j] += matrix1[i][k] * matrix2[k][j]\n",
    "    return result\n"
   ]
  },
  {
   "attachments": {},
   "cell_type": "markdown",
   "metadata": {},
   "source": [
    "# Logarithmic O(logn)"
   ]
  },
  {
   "attachments": {},
   "cell_type": "markdown",
   "metadata": {},
   "source": [
    "### Time\n",
    "> An example of a log time algorithm is binary search. Binary search is an algorithm that searches for a specific element in a sorted list by repeatedly dividing the search interval in half. As a result, the time taken to complete the search grows logarithmically with the size of the list. Hence, the time complexity of this operation is O(log n), where n is the size of the list being searched."
   ]
  },
  {
   "cell_type": "code",
   "execution_count": null,
   "metadata": {},
   "outputs": [],
   "source": [
    "#function used to search for a target using a binary search\n",
    "def binary_search(arr, low, high, target):\n",
    "    while low <= high:\n",
    "        mid = (low + high) // 2\n",
    "        if arr[mid] == target:\n",
    "            return mid\n",
    "        elif arr[mid] < target:\n",
    "            low = mid + 1\n",
    "        else:\n",
    "            high = mid - 1\n",
    "\n",
    "target = 263\n",
    "result = binary_search(numbers, 0, len(numbers) - 1, target)\n",
    "\n",
    "print(result)\n"
   ]
  },
  {
   "attachments": {},
   "cell_type": "markdown",
   "metadata": {},
   "source": [
    "### Space\n",
    "> The same algorithm above has a O(logn) space complexity. The function takes an array arr, its lower and upper bounds low and high, and a target value target. The function searches for target within the bounds of arr by recursively dividing the search space in half until the target is found or the search space is empty. The function does not create any new data structures that depend on the size of arr. Instead, the function uses the call stack to keep track of the recursive calls. Since the maximum depth of the recursive calls is O(logn), where n is the size of arr, the space complexity of this function is O(logn). As the size of arr increases, the amount of memory required to execute the function grows logarithmically."
   ]
  },
  {
   "attachments": {},
   "cell_type": "markdown",
   "metadata": {},
   "source": [
    "# Exponential O(2^n)"
   ]
  },
  {
   "attachments": {},
   "cell_type": "markdown",
   "metadata": {},
   "source": [
    "### Time\n",
    "> An example of an O(2^n) algorithm is the recursive implementation of the Fibonacci sequence. The Fibonacci sequence is a series of numbers where each number is the sum of the two preceding ones, starting from 0 and 1. The recursive implementation of the Fibonacci sequence calculates each number by recursively calling itself with the two preceding numbers until it reaches the base case (i.e., the first or second number in the sequence). The algorithm takes O(2^n) time in the worst case because it has to calculate each number in the sequence by making two recursive calls."
   ]
  },
  {
   "attachments": {},
   "cell_type": "markdown",
   "metadata": {},
   "source": [
    "![A visualization of calculating the fibonacci sequence](images/fibonacci.webp)"
   ]
  },
  {
   "cell_type": "code",
   "execution_count": null,
   "metadata": {},
   "outputs": [],
   "source": [
    "#recrursive function to calculate the fibonacci number at n\n",
    "def fibonacci(n):\n",
    "    if n <= 1:\n",
    "        return n\n",
    "    else:\n",
    "        return fibonacci(n-1) + fibonacci(n-2)\n",
    "\n",
    "print(fibonacci(3))"
   ]
  },
  {
   "attachments": {},
   "cell_type": "markdown",
   "metadata": {},
   "source": [
    "### Space\n",
    "> This function takes a set s as input and generates all possible subsets of s. The function does this by recursively generating the subsets of the set without the first element, and then adding the first element to each of those subsets to generate the subsets that include the first element. The function creates a new list for each recursive call that stores the subsets, and each element in the list is a new list that represents a subset. The number of subsets that can be generated from a set of size n is 2^n, so the space complexity of this function is O(2^n). As the size of the input set increases, the amount of memory required to execute the function grows exponentially."
   ]
  },
  {
   "cell_type": "code",
   "execution_count": null,
   "metadata": {},
   "outputs": [],
   "source": [
    "def generate_subsets(s):\n",
    "    if not s:\n",
    "        return [[]]\n",
    "    subsets = generate_subsets(s[1:])\n",
    "    return [[s[0]] + subset for subset in subsets] + subsets\n"
   ]
  },
  {
   "attachments": {},
   "cell_type": "markdown",
   "metadata": {},
   "source": [
    "> Using the time library, we are able to see the difference in time it takes to calculate the fibonacci function above.\n",
    "- Based on what is known about the other time complexities, hypothesize the resulting elapsed time if the function is replaced. "
   ]
  },
  {
   "cell_type": "code",
   "execution_count": null,
   "metadata": {},
   "outputs": [],
   "source": [
    "import time\n",
    "\n",
    "start_time = time.time()\n",
    "print(fibonacci(34))\n",
    "end_time = time.time()\n",
    "\n",
    "total_time = end_time - start_time\n",
    "print(\"Time taken:\", total_time, \"seconds\")\n",
    "\n",
    "start_time = time.time()\n",
    "print(fibonacci(35))\n",
    "end_time = time.time()\n",
    "\n",
    "total_time = end_time - start_time\n",
    "print(\"Time taken:\", total_time, \"seconds\")\n"
   ]
  },
  {
   "attachments": {},
   "cell_type": "markdown",
   "metadata": {},
   "source": [
    "# Hacks\n",
    "##### Record your findings when testing the time elapsed of the different algorithms.\n",
    "Bubble Sort: O(n^2)\n",
    "\n",
    "Selection Sort: O(n^2)\n",
    "\n",
    "Insertion Sort: O(n^2)\n",
    "\n",
    "Merge Sort: O(n log n)\n",
    "\n",
    "Quick Sort: O(n^2) in the worst case, but O(n log n) on average with good pivot selection\n",
    "Heap Sort: O(n log n)\n",
    "\n",
    "Counting Sort: O(n + k), where k is the range of values in the input array\n",
    "\n",
    "Radix Sort: O(d(n + k)), where d is the number of digits in the maximum value and k is the radix (e.g., 10 for decimal numbers)\n",
    "\n",
    "##### Although we will go more in depth later, time complexity is a key concept that relates to the different sorting algorithms. Do some basic research on the different types of sorting algorithms and their time complexity.\n",
    "Time and space complexity are important factors to consider when choosing an algorithm because they determine how efficient an algorithm is. A more efficient algorithm will take less time and/or space to solve a problem, which can be critical for certain applications. For example, in a real-time system, you may not have the luxury of waiting for an algorithm to finish executing, so you need an algorithm that can solve the problem quickly. On the other hand, if you have limited memory resources, you may need an algorithm that uses less space to store intermediate data.\n",
    "##### Why is time and space complexity important when choosing an algorithm?\n",
    "It depends on the problem you are trying to solve. In general, constant time algorithms are preferred because they are the most efficient, but they may not always be applicable or feasible for certain problems. Exponential time algorithms, on the other hand, can quickly become impractical for large input sizes, but they may be the only known solution for certain problems. For example, some cryptographic algorithms rely on the fact that certain problems are believed to be intractable in polynomial time but have exponential-time solutions. Ultimately, the choice of algorithm will depend on the specific \n",
    "##### Should you always use a constant time algorithm / Should you never use an exponential time algorithm? Explain? \n",
    "##### What are some general patterns that you noticed to determine each algorithm's time and space complexity?\n",
    "Loops: The number of times a loop is executed can give an indication of an algorithm's time complexity. For example, a loop that iterates over an array of size n will typically have a time complexity of O(n).\n",
    "Recursion: Recursive algorithms can be more difficult to analyze, but the depth and branching factor of the recursion can give an indication of an algorithm's time complexity. For example, a recursive algorithm that splits the input in half at each step will typically have a time complexity of O(log n).\n",
    "Nested loops: Algorithms with nested loops can have a time complexity that is the product of the sizes of the loops. \n",
    "\n",
    "##### Complete the Time and Space Complexity analysis questions linked below.\n",
    "[Practice](https://www.geeksforgeeks.org/practice-questions-time-complexity-analysis/)"
   ]
  },
  {
   "cell_type": "code",
   "execution_count": 10,
   "metadata": {},
   "outputs": [
    {
     "name": "stdout",
     "output_type": "stream",
     "text": [
      "Decimal 60 in binary is 111100\n",
      "Decimal 81 in binary is 1010001\n",
      "60 AND 81 = 16\n",
      "60 OR 81 = 125\n",
      "60 XOR 81 = 109\n",
      "NOT 60 = -61\n"
     ]
    }
   ],
   "source": [
    "import random\n",
    "\n",
    "# Binary operations program\n",
    "\n",
    "# Function to convert a decimal number to binary\n",
    "def decimal_to_binary(num):\n",
    "    binary = ''\n",
    "    while num > 0:\n",
    "        binary = str(num % 2) + binary\n",
    "        num = num // 2\n",
    "    return binary\n",
    "\n",
    "# Function to perform bitwise AND operation\n",
    "def bitwise_and(num1, num2):\n",
    "    return num1 & num2\n",
    "\n",
    "# Function to perform bitwise OR operation\n",
    "def bitwise_or(num1, num2):\n",
    "    return num1 | num2\n",
    "\n",
    "# Function to perform bitwise XOR operation\n",
    "def bitwise_xor(num1, num2):\n",
    "    return num1 ^ num2\n",
    "\n",
    "# Function to perform bitwise NOT operation\n",
    "def bitwise_not(num):\n",
    "    return ~num\n",
    "\n",
    "# Example usage\n",
    "num1 = random.randint(0, 100)\n",
    "num2 = random.randint(0, 100)\n",
    "\n",
    "print(f\"Decimal {num1} in binary is {decimal_to_binary(num1)}\")\n",
    "print(f\"Decimal {num2} in binary is {decimal_to_binary(num2)}\")\n",
    "\n",
    "print(f\"{num1} AND {num2} = {bitwise_and(num1, num2)}\")\n",
    "print(f\"{num1} OR {num2} = {bitwise_or(num1, num2)}\")\n",
    "print(f\"{num1} XOR {num2} = {bitwise_xor(num1, num2)}\")\n",
    "print(f\"NOT {num1} = {bitwise_not(num1)}\")\n"
   ]
  },
  {
   "cell_type": "code",
   "execution_count": 1,
   "metadata": {},
   "outputs": [
    {
     "name": "stdout",
     "output_type": "stream",
     "text": [
      "The binary representation of 'random word' is 0111001001100001011011100110010001101111011011010010000001110111011011110111001001100100\n"
     ]
    }
   ],
   "source": [
    "# Binary converter program\n",
    "\n",
    "# Function to convert a string to binary\n",
    "def string_to_binary(string):\n",
    "    binary = ''\n",
    "    for char in string:\n",
    "        binary += format(ord(char), '08b')  # Convert the character to binary and append to the binary string\n",
    "    return binary\n",
    "\n",
    "# Example usage\n",
    "word = input(\"Enter a word to convert to binary: \")\n",
    "binary_word = string_to_binary(word)\n",
    "print(f\"The binary representation of '{word}' is {binary_word}\")\n"
   ]
  },
  {
   "cell_type": "code",
   "execution_count": 2,
   "metadata": {},
   "outputs": [
    {
     "name": "stdout",
     "output_type": "stream",
     "text": [
      "Result: 20\n"
     ]
    }
   ],
   "source": [
    "def binary_math(num1, num2, operator):\n",
    "    # Convert input numbers to binary\n",
    "    num1_binary = bin(num1)[2:]\n",
    "    num2_binary = bin(num2)[2:]\n",
    "\n",
    "    # Convert binary back to decimal and perform the operation\n",
    "    if operator == '+':\n",
    "        result = int(num1_binary, 2) + int(num2_binary, 2)\n",
    "    elif operator == '-':\n",
    "        result = int(num1_binary, 2) - int(num2_binary, 2)\n",
    "    elif operator == '*':\n",
    "        result = int(num1_binary, 2) * int(num2_binary, 2)\n",
    "    elif operator == '/':\n",
    "        result = int(num1_binary, 2) / int(num2_binary, 2)\n",
    "    else:\n",
    "        print(\"Invalid operator\")\n",
    "        return\n",
    "\n",
    "    # Return the result as a decimal number\n",
    "    return result\n",
    "\n",
    "# Ask the user for input\n",
    "num1 = int(input(\"Enter the first number: \"))\n",
    "num2 = int(input(\"Enter the second number: \"))\n",
    "operator = input(\"Enter the operator (+, -, *, /): \")\n",
    "\n",
    "# Call the binary_math function and print the result\n",
    "result = binary_math(num1, num2, operator)\n",
    "print(\"Result:\", result)\n"
   ]
  }
 ],
 "metadata": {
  "kernelspec": {
   "display_name": "base",
   "language": "python",
   "name": "python3"
  },
  "language_info": {
   "codemirror_mode": {
    "name": "ipython",
    "version": 3
   },
   "file_extension": ".py",
   "mimetype": "text/x-python",
   "name": "python",
   "nbconvert_exporter": "python",
   "pygments_lexer": "ipython3",
   "version": "3.9.12"
  },
  "orig_nbformat": 4
 },
 "nbformat": 4,
 "nbformat_minor": 2
}
