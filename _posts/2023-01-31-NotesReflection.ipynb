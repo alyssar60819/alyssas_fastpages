{
 "cells": [
  {
   "attachments": {},
   "cell_type": "markdown",
   "metadata": {},
   "source": [
    "# 5.1 and 5.2 Notes"
   ]
  },
  {
   "attachments": {},
   "cell_type": "markdown",
   "metadata": {},
   "source": [
    "#### Come up with three of your own Beneficial and corresponding Harmful Effects of Computing \n",
    "\n",
    "#### Pros:\n",
    "Computing helps us become more informed with news that we may not know from commmunicating with other people\n",
    "Computers have a very efficient way to organize and store data like photos, notes from class and important files so that it is still easy to access yet kept in a safe space\n",
    "Computing helps improve quality of life to help make our lives easier and more efficient like copy and paste, where rather than typing the same thing over and over again you can use ctrl-c and ctrl-v to do the same thing in a shorter amount of time\n",
    "\n",
    "#### Cons:\n",
    "Computers can cause people to spend too much time sitting down and looking at a screen. This can have bad long term affects on ones eyesight and physical health. It can also effect a person’s social life because they can become addicted to a screen.\n",
    "Not all computing technology is used to good intentions, like how the military may use their access to technology to hack into another country’s server\n",
    "There is a digital divide, where people who may not be able to afford electronics may feel disconnected and left out from opportunities from people who have access to technology\n",
    "Talk about dopamine issues above. Real? Parent conspiracy? Anything that is impacting your personal study and success in High School? I use my computer for many reasons: school, homework, extracurriculars, communicating with peers, etc. Sometimes when I lose track of time, I spend the whole day in front of a computer screen, either being productive or wasting time. I could either have a lot of homework that needs to be done or I could be bingewatching my favorite show. Because the computer gives me access to almost let me do anything I want, I can easily get distracted from a Youtube video or online shopping, which can cause me to procrasinate. Yet again, my computer is also used for productivity, where I can do my research for my English paper or go on Khan Academy to learn a new skill to further develop my knowledge on my academics."
   ]
  },
  {
   "attachments": {},
   "cell_type": "markdown",
   "metadata": {},
   "source": [
    "#### CTP Questions\n",
    "\n",
    "##### Think of three beneficial effects of your projects based on 5.1 Unit\n",
    "- Games can help people relax and destress\n",
    "- Games are a good way to connect with others and build strong relationships\n",
    "- Games can increase your observational skills and reflexes\n",
    "\n",
    "\n",
    "#### What concerns do you have personally about the digital divide? For yourself or for others. \n",
    "Its obviously very upsetting that digital divide is something that exists. I think its very unfair that not everyone has access to the same opportunities and education, something that is partially effected by the digital divide. Those who do not have computers lose access to the internet and all the information that comes with it. As a result, they fall behind other, not because they lack the skill, but because they lack the resources which is extremely unfair. Answer with an opinion and learnings so far this year: What are pros/cons on internet blockers at router and lack of admin password on lab machines at school? Pros Cons prevents students from getting distracted (ex: games, youtube, instagram etc.). could block websites and videos that are actually informational and needed during classroom work-time This creates a bias against what should and should not be filtered. Some content that is actually purposeful and informational might get blocked just because of it’s source which is considered “bad” students don’t have access to good internet which can impair the quality of learning"
   ]
  }
 ],
 "metadata": {
  "kernelspec": {
   "display_name": "Python 3",
   "language": "python",
   "name": "python3"
  },
  "language_info": {
   "codemirror_mode": {
    "name": "ipython",
    "version": 3
   },
   "file_extension": ".py",
   "mimetype": "text/x-python",
   "name": "python",
   "nbconvert_exporter": "python",
   "pygments_lexer": "ipython3",
   "version": "3.10.10"
  },
  "orig_nbformat": 4,
  "vscode": {
   "interpreter": {
    "hash": "bd385fe162c5ca0c84973b7dd5c518456272446b2b64e67c2a69f949ca7a1754"
   }
  }
 },
 "nbformat": 4,
 "nbformat_minor": 2
}
