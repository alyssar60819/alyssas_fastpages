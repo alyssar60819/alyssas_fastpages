{
 "cells": [
  {
   "attachments": {},
   "cell_type": "markdown",
   "metadata": {},
   "source": [
    "# CPT Outline"
   ]
  },
  {
   "attachments": {},
   "cell_type": "markdown",
   "metadata": {},
   "source": [
    "#### Purpose and Audience\n",
    "Purpose is to create a gaming website with recreations of popular games in the past\n",
    "\n",
    "Provide students and kids a relaxing, fun environment to play games in their free time\n",
    "\n",
    "Integrate class knowledge into POLISHED PRODUCT\n",
    "\n",
    "#### Program Function\n",
    "Players must find as many ‘imposter’ circles as possible before the time runs out. If they select the circle that is a different color than the rest, they get a point and the color changes. If they guess wrong, they lose 5 points and must try again.\n",
    "\n",
    "#### CRUD Concepts\n",
    "- Analytic data: Player behavior is tracked and stored in a database to analyze it and improve the game in future updates.\n",
    "- Persistent player data: Player data such as progress, score, and inventory is stored in a database. This data persists across game sessions, allowing players to pick up where they left off.\n",
    "  \n",
    "I plan on implementing analytic data and persistent player data into my game, so the game will get more difficult as the player’s score increase. This way, the game’s difficulty will adjust depending on the player’s skill\n",
    "\n",
    "#### Algorithm Implementation\n",
    "Iteration:\n",
    "- for() loops to create grid of circles\n",
    "\n",
    "Selection:\n",
    "- if() statements to determine if player clicks the correct circle\n",
    "- if() statements to determine when 60 second timer runs out and transfer to Game End screen\n",
    "\n",
    "Sequencing:\n",
    "- the Game End screen is shown if certain conditions are met\n",
    "- ‘Imposter’ function is called if certain conditions are met\n",
    "\n",
    "#### College Board Criteria\n",
    "This game demonstrates input and output because the program can recognize which circle the player selects and then check to see if it is the correct circle. If it is, the program will return the number of points +1. If the player selects the wrong circle, the program will return the number of points -5. In plan on storing this data in a browser-based storage solutions such as LocalStorage or SessionStorage. This would allow the program to retrieve game data so that I could use the score to adjust the difficulty of the game. The main function for this program is called ‘imposter’, which places the imposter circle at a random location. This function uses three parameters, one to assign a random x-value, one to assign a random y-value, and one to give it a randomly generated fill color that is just slightly different from the color of the rest of the circles. This last parameter will change depending on how well the player scores, so that the color difference is more obvious for bad players and less obvious for good players. \n",
    "\n",
    "#### Video Plan\n",
    "I plan on showing how the games use user imput to determine whether their score increases of decreases and show how the locations of icons are randomly generated.\n",
    "\n",
    "\n"
   ]
  }
 ],
 "metadata": {
  "kernelspec": {
   "display_name": "Python 3",
   "language": "python",
   "name": "python3"
  },
  "language_info": {
   "codemirror_mode": {
    "name": "ipython",
    "version": 3
   },
   "file_extension": ".py",
   "mimetype": "text/x-python",
   "name": "python",
   "nbconvert_exporter": "python",
   "pygments_lexer": "ipython3",
   "version": "3.10.10"
  },
  "orig_nbformat": 4,
  "vscode": {
   "interpreter": {
    "hash": "bd385fe162c5ca0c84973b7dd5c518456272446b2b64e67c2a69f949ca7a1754"
   }
  }
 },
 "nbformat": 4,
 "nbformat_minor": 2
}
