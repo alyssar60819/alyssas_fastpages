{
 "cells": [
  {
   "attachments": {},
   "cell_type": "markdown",
   "metadata": {},
   "source": [
    "### 3d ANIMATION:\n",
    " I really liked looking at the different takes on this project and I used one of the qr codes to watch one of the videos and I really liked how everyone had the ability to do their own thing and use different skills. I think the software looks really interesting and this could be a cool extension of compsci with computer skills and troubleshooting.    \n",
    " ![]({{site.baseurl}}/images/image1.png)                       \n",
    "### Ceramics: \n",
    "I’m in this class so I made this gnome and this sort of dish thing, but it was awesome to see the other projects because I was working with the same kind of stuff that they were so it was cool to see who did what and how I could branch out and explore more different kinds of projects in the future when I take the third and fourth trimesters. I really liked the creative freedom and relaxing nature of the class so this was just a great opportunity to show off my work.\n",
    "![]({{site.baseurl}}/images/image2.png)\n",
    "### DMM: \n",
    "I considered taking this class at the beginning of the year, but I got the chance to look at all of the projects with Sabine and we both really enjoyed the social justice posters. There was also just a similar amount of variety as the other classes and it was definitely something that I think takes some ingenuity and insight and artistic talent because of the 3d with harder materials\n",
    "![]({{site.baseurl}}/images/image3.png)\n",
    "\n",
    "## FINAL REFLECTION:\n",
    "n@tm was a great chance to show the game that I liked the best out of the ones i made which was color clicker. I put a lot of effort into this trimester and I’m really proud of my work as well as for ceramics. All of the departments share this spirit of creative freedom and developing unique skills for students but I’m glad that I could take this class because of the opportunity to expand on my more technical knowledge"
   ]
  }
 ],
 "metadata": {
  "kernelspec": {
   "display_name": "Python 3",
   "language": "python",
   "name": "python3"
  },
  "language_info": {
   "codemirror_mode": {
    "name": "ipython",
    "version": 3
   },
   "file_extension": ".py",
   "mimetype": "text/x-python",
   "name": "python",
   "nbconvert_exporter": "python",
   "pygments_lexer": "ipython3",
   "version": "3.10.10"
  },
  "orig_nbformat": 4,
  "vscode": {
   "interpreter": {
    "hash": "bd385fe162c5ca0c84973b7dd5c518456272446b2b64e67c2a69f949ca7a1754"
   }
  }
 },
 "nbformat": 4,
 "nbformat_minor": 2
}
