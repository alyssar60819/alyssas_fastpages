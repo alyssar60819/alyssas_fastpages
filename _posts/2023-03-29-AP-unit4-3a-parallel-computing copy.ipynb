{
 "cells": [
  {
   "attachments": {},
   "cell_type": "markdown",
   "metadata": {},
   "source": [
    "# MCQ #4 Corrections\n",
    "![MCQ #4](MCQ#4.png)"
   ]
  },
  {
   "attachments": {},
   "cell_type": "markdown",
   "metadata": {},
   "source": [
    "##### Question 27 - RGB Values in Digital Images\n",
    "![alt text](Question27.png)\n",
    "I answered B, which is incorrect because by converting the red, green, and blue values in each pixel into a single number, information has been lost that cannot be restored. The correct answer is C because if a negative of the original image is made, each RGB triplet value will be computed by subtracting the original value from 255. The original value can then be restored by subtracting the new value from 255. This process is lossless because the exact original can be restored."
   ]
  },
  {
   "attachments": {},
   "cell_type": "markdown",
   "metadata": {},
   "source": [
    "##### Question #42 - Procedure Most Useful to Check if Word is in Texts\n",
    "![alt text](Question42.png)\n",
    "I answered A, which is incorrect because obtaining part of a text file is not useful when attempting to determine whether a word appears in two text files. The correct answer is B because two calls to this procedure can be used to determine if a particular word appears in each of two text files. If both calls return true, then the word appears in both text files."
   ]
  },
  {
   "attachments": {},
   "cell_type": "markdown",
   "metadata": {},
   "source": [
    "##### Question #44 - Use of Procedure to Search a Dictionary\n",
    "![alt text](Question44.png)\n",
    "I answered A, which is incorrect because the student cannot modify the search procedure’s code or internal abstractions.The correct answer is C because the student knows that the procedure searches for a value without knowing how it does the searching. This is an example of the use of procedural abstraction."
   ]
  }
 ],
 "metadata": {
  "kernelspec": {
   "display_name": "base",
   "language": "python",
   "name": "python3"
  },
  "language_info": {
   "codemirror_mode": {
    "name": "ipython",
    "version": 3
   },
   "file_extension": ".py",
   "mimetype": "text/x-python",
   "name": "python",
   "nbconvert_exporter": "python",
   "pygments_lexer": "ipython3",
   "version": "3.9.12"
  },
  "orig_nbformat": 4
 },
 "nbformat": 4,
 "nbformat_minor": 2
}
