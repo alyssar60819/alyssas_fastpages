{
 "cells": [
  {
   "attachments": {},
   "cell_type": "markdown",
   "metadata": {},
   "source": [
    "# Big Ideas 2 MCQ Corrections and Scoring\n",
    "![alt text](BigIdeas2.png)"
   ]
  },
  {
   "attachments": {},
   "cell_type": "markdown",
   "metadata": {},
   "source": [
    "### Corrections:\n",
    "\n",
    "##### Question 2: Advantage of lossless over lossy compression\n",
    "![alt text](Question2.png)\n",
    "\n",
    "I answered A, which was incorrect because the ability to keep data secure is not a primary function of a compression algorithm. The correct answer was B because lossless compression algorithms are guaranteed to be able to reconstruct the original data, while lossy compression algorithms are not.\n",
    "\n",
    "##### Question 21: Museum photograph spreadsheet \n",
    "![alt text](Question21.png)\n",
    "I answered B, which was correct, and C, which was incorrect because this sequence of steps does not remove any entries with an unknown year, so the entry in the first row of the spreadsheet will have a year value of -1. The correct answer was D because sorting by year will sort the spreadsheet on column C from least to greatest. Filtering by year will remove any entries with unknown years. Filtering by photographer will remove any entries with unknown photographers. Since the order of the entries is not affected by the filters, the photograph with the lowest year value will be in the first row of the spreadsheet."
   ]
  }
 ],
 "metadata": {
  "kernelspec": {
   "display_name": "Python 3",
   "language": "python",
   "name": "python3"
  },
  "language_info": {
   "codemirror_mode": {
    "name": "ipython",
    "version": 3
   },
   "file_extension": ".py",
   "mimetype": "text/x-python",
   "name": "python",
   "nbconvert_exporter": "python",
   "pygments_lexer": "ipython3",
   "version": "3.10.10"
  },
  "orig_nbformat": 4,
  "vscode": {
   "interpreter": {
    "hash": "bd385fe162c5ca0c84973b7dd5c518456272446b2b64e67c2a69f949ca7a1754"
   }
  }
 },
 "nbformat": 4,
 "nbformat_minor": 2
}
