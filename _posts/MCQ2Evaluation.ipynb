{
 "cells": [
  {
   "attachments": {},
   "cell_type": "markdown",
   "metadata": {},
   "source": [
    "# College Board MCQ #2 Evaluation\n",
    "![alt text](MCQ2Score.png)"
   ]
  },
  {
   "attachments": {},
   "cell_type": "markdown",
   "metadata": {},
   "source": [
    "### Corrections and Explainations \n",
    "\n",
    "##### Question #28 -  Remove first and last two characters of string\n",
    "![alt text](Question28.png)\n",
    "I answered D, which is incorrect because this code segment concatenates the first 2 characters and the last 2 characters of oldString and assigns the result to newString. The correct answer is C because the first statement removes the first 2 characters of oldString and assigns the result to tempString. The second statement removes the last 2 characters of tempString and assigns the result to newString.\n",
    "\n",
    "##### Question #29 - Values after sequence of boolean expressions\n",
    "![alt text](Question29.png)\n",
    "I answered A, which is incorrect because the fourth statement assigns the value false to a. The fifth statement assigns the value false to c. The value of b does not change after it is initially assigned. The correct answer is B because the first three statements assign values to the variables. The fourth statement assigns the value of (NOT (a OR b)) AND c to a. Since a OR b is true, NOT (a OR b) is false, so (NOT (a OR b)) AND c is false. The fifth statement assigns the value of c AND a to c. Since a is now false, c AND a is false. The last three statements display the values of the variables.\n",
    "\n",
    "##### Question #22 - Two robots is seperate grids try to reach the goal\n",
    "![alt text](Question22.png)\n",
    "I answered D, which is incorrect because although the program will not move the robot to the gray square in Grid II, it will correctly move the robot to the gray square in Grid I. The correct answer is A because in Grid I, the robot moves forward to the end of the bottom row, turns right twice, moves forward twice, turns right twice, moves forward until the end of the middle row, turns left twice, moves forward twice, turns left twice, and moves forward until Goal_Reached is true."
   ]
  },
  {
   "attachments": {},
   "cell_type": "markdown",
   "metadata": {},
   "source": [
    "### Reflection:\n",
    "I think I am happy with my score because I challenged myself to do the MCQ without any outside resources, but I would still like to improve, expecially in the 5.D and 4.C categories. The one thing I struggled with the most was identify and correct errors in algorithms and programs. I think I am good at representing algorithmic processes without using a programming language and implementing and applying algorithms. Overall, I think I have mastered most of the skills for the multiple choice part of the AP Exam, but still. ahev room for improvement."
   ]
  }
 ],
 "metadata": {
  "kernelspec": {
   "display_name": "Python 3",
   "language": "python",
   "name": "python3"
  },
  "language_info": {
   "codemirror_mode": {
    "name": "ipython",
    "version": 3
   },
   "file_extension": ".py",
   "mimetype": "text/x-python",
   "name": "python",
   "nbconvert_exporter": "python",
   "pygments_lexer": "ipython3",
   "version": "3.10.10"
  },
  "orig_nbformat": 4,
  "vscode": {
   "interpreter": {
    "hash": "bd385fe162c5ca0c84973b7dd5c518456272446b2b64e67c2a69f949ca7a1754"
   }
  }
 },
 "nbformat": 4,
 "nbformat_minor": 2
}
