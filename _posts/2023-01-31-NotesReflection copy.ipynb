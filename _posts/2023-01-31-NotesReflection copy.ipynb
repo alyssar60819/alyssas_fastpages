{
 "cells": [
  {
   "attachments": {},
   "cell_type": "markdown",
   "metadata": {},
   "source": [
    "# 5.3 and 5.4 Notes"
   ]
  },
  {
   "attachments": {},
   "cell_type": "markdown",
   "metadata": {},
   "source": [
    "## 5.3 Computer Bias \n",
    "\n",
    "1. Tiktok is for younger people because of the way it is developed and the advertising and Facebook is for older people because it is more timeless and easy to use and generally not as abrasive. Instagram has an algorithm to show us products that we are interested in after we search for them or mention them.\n",
    "2. I don’t think it was intentionally racist, I just think the test size was too small and they did not check the software across a diverse sample of people, leading to problems with the testing algorithm. \n",
    "\n",
    "## 5.4 Crowdsourcing \n",
    "\n",
    "1. We could use crowdsourcing to figure out what different students think about how our class is structured. The different tech talks and work days are a lot different than a lot of other classes so it would be interesting to do a form or survey to see peoples opinions on it\n",
    "2. We could make our project better with crowdsourcing by using a range of nighthawks to find out how long they have to play games and if they are more interested in learning or just fun games\n",
    "3. At N@TM, I could store the information about who made a username/account, who played as guest users, what demographic was interested and how many people played total \n",
    "\n",
    "## 5.5 Legal and Ethical Sources\n",
    "\n",
    "1. There are lots of different licenses with different credit terms and rules for use. Examples are the Creative Commons Zero v1.0 Universal license, where code is 100% \"open source\" and can be replicated and used for anything at all, Open Source MIT License, where users can make free closed source use for distribution, but need to credit original creator, and Open Source GPL License, where users cannot distribute this code.\n",
    "2. Licenses and legal protections are really important for individual workers so that they can protect their work and are important to apply to everything so that people can get their due credit \n",
    "3. We picked the MIT license because we wanted anyone who used our code to need to credit our group for the work that we did (its a closed license)\n",
    "\n",
    "## 5.6 safe computing\n",
    "PII = personal identifiable information\n",
    "\n",
    "1. I have seen PII such as emails, usernames, and people’s nicknames (as well as blog info) on csp projects\n",
    "2. I feel like it’s really scary to have your information out on the internet because it is so easy to steal it and use it maliciously, but I have never personally experienced people impersonating me or stealing my info or anything\n",
    "3. Two step authentification, which requires other verification methods such as email and phone number, can also be used. Strong passwords have capitals, lowercase, a variety of different symbols to make it harder to guess, and it cant be names or important dates (which makes a weak password because people can easily find out about it) \n",
    "5. We have used encryption in AWS deployment in .pdm which we used to look into instances and we used public and private ssh keys \n",
    "6. I have never found about phishing the hard way, but a family friend gave his money to an online scammer and was unable to get it back. "
   ]
  }
 ],
 "metadata": {
  "kernelspec": {
   "display_name": "Python 3",
   "language": "python",
   "name": "python3"
  },
  "language_info": {
   "codemirror_mode": {
    "name": "ipython",
    "version": 3
   },
   "file_extension": ".py",
   "mimetype": "text/x-python",
   "name": "python",
   "nbconvert_exporter": "python",
   "pygments_lexer": "ipython3",
   "version": "3.10.10"
  },
  "orig_nbformat": 4,
  "vscode": {
   "interpreter": {
    "hash": "bd385fe162c5ca0c84973b7dd5c518456272446b2b64e67c2a69f949ca7a1754"
   }
  }
 },
 "nbformat": 4,
 "nbformat_minor": 2
}
