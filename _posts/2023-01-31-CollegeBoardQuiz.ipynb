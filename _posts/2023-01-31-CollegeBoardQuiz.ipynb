{
 "cells": [
  {
   "attachments": {},
   "cell_type": "markdown",
   "metadata": {},
   "source": [
    "# College Board MCQ"
   ]
  },
  {
   "attachments": {},
   "cell_type": "markdown",
   "metadata": {},
   "source": [
    "#### My overall score on the MCQ was a 41/50.\n",
    "\n",
    "##### Question 8\n",
    "I just answered A, which is correct because this would indicate that each time the particular laptop was borrowed it was returned, which would indicate the laptop is not currently borrowed. I did not a include answer D, which is correct because if a laptop was not currently being borrowed, then the value of the variable borrows would equal the value of\n",
    "the variable returns. \n",
    "\n",
    "##### Question 10\n",
    "I just answered B, whicb is correct because The expression (num greater than 15) or (num equals 15) evaluates to true if (num greater than 15) is true, or if (num equals 15) is true, or if both are true. I did not include answer C, which is correct because the expression Not (num less than 15) evaluates to true if (num less than 15) evaluates to  false. This will happen when the value of   numis greater than or equal to 15.\n",
    "\n",
    "##### Question 31\n",
    "I answered B, which is incorrect because if a is 0 and b is 2, the original code segment would result in final values of a equals 0 and b equals 10. The correct answer was A because changing line 3 to a, leftward arrow, b plus 10. would result in final values of a equals 12 and b equals 2.\n",
    "\n",
    "#### Reflection\n",
    "Overall, most of my errors were made because I did not select all of the possible answers when able to select multiple. I think I can improve my scores in the future by reviewing the concepts I struggled with and practicing lots."
   ]
  }
 ],
 "metadata": {
  "kernelspec": {
   "display_name": "Python 3",
   "language": "python",
   "name": "python3"
  },
  "language_info": {
   "codemirror_mode": {
    "name": "ipython",
    "version": 3
   },
   "file_extension": ".py",
   "mimetype": "text/x-python",
   "name": "python",
   "nbconvert_exporter": "python",
   "pygments_lexer": "ipython3",
   "version": "3.10.10"
  },
  "orig_nbformat": 4,
  "vscode": {
   "interpreter": {
    "hash": "bd385fe162c5ca0c84973b7dd5c518456272446b2b64e67c2a69f949ca7a1754"
   }
  }
 },
 "nbformat": 4,
 "nbformat_minor": 2
}
